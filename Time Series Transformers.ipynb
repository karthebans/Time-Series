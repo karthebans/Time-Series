{
 "cells": [
  {
   "cell_type": "markdown",
   "id": "c3c8512f",
   "metadata": {},
   "source": [
    "# 4 Common Machine Learning Data Transforms for Time Series Forecasting"
   ]
  },
  {
   "cell_type": "markdown",
   "id": "310fbc42",
   "metadata": {},
   "source": [
    "Time series data often requires some preparation prior to being modeled with machine learning algorithms.\n",
    "\n",
    "For example, differencing operations can be used to remove trend and seasonal structure from the sequence in order to simplify the prediction problem. Some algorithms, such as neural networks, prefer data to be standardized and/or normalized prior to modeling.\n",
    "\n",
    "Any transform operations applied to the series also require a similar inverse transform to be applied on the predictions. This is required so that the resulting calculated performance measures are in the same scale as the output variable and can be compared to classical forecasting methods.\n",
    "\n",
    "In this post, you will discover how to perform and invert four common data transforms for time series data in machine learning.\n",
    "\n",
    "After reading this post, you will know:\n",
    " \n",
    "* How to transform and inverse the transform for four methods in Python.\n",
    "* Important considerations when using transforms on training and test datasets.\n",
    "* The suggested order for transforms when multiple operations are required on a dataset.\n",
    "Kick-start your project with my new book Deep Learning for Time Series Forecasting, including step-by-step tutorials and the Python source code files for all examples.\n",
    "\n",
    "\n",
    "## Overview\n",
    "This tutorial is divided into three parts; they are:\n",
    "\n",
    "1. Transforms for Time Series Data\n",
    "2. Considerations for Model Evaluation\n",
    "3. Order of Data Transforms\n",
    "\n",
    "Let’s take a quick look at each in turn and how to perform these transforms in Python.\n",
    "\n",
    "We will also review how to reverse the transform operation as this is required when we want to evaluate the predictions in their original scale so that performance measures can be compared directly.\n",
    "\n",
    "Are there other transforms you like to use on your time series data for modeling with machine learning methods?\n",
    "Let me know in the comments below.\n",
    "\n",
    "\n",
    "## Power Transform\n",
    "A power transform removes a shift from a data distribution to make the distribution more-normal (Gaussian).\n",
    "\n",
    "On a time series dataset, this can have the effect of removing a change in variance over time.\n",
    "\n",
    "Popular examples are the log transform (positive values) or generalized versions such as the Box-Cox transform (positive values) or the Yeo-Johnson transform (positive and negative values).\n",
    "\n",
    "For example, we can implement the Box-Cox transform in Python using the boxcox() function from the SciPy library.\n",
    "\n",
    "By default, the method will numerically optimize the lambda value for the transform and return the optimal value.\n"
   ]
  },
  {
   "cell_type": "code",
   "execution_count": 9,
   "id": "b4fe5eb9",
   "metadata": {},
   "outputs": [
    {
     "data": {
      "text/plain": [
       "(array([0.        , 0.89887536, 1.67448353, 2.37952145, 3.03633818,\n",
       "        3.65711928, 4.2494518 , 4.81847233, 5.36786648]),\n",
       " 0.7200338588580096)"
      ]
     },
     "execution_count": 9,
     "metadata": {},
     "output_type": "execute_result"
    }
   ],
   "source": [
    "from scipy.stats import boxcox\n",
    "# define data\n",
    "data = range(1,10)\n",
    "# box-cox transform\n",
    "result, lmbda = boxcox(data)\n",
    "result, lmbda"
   ]
  },
  {
   "cell_type": "markdown",
   "id": "62d20795",
   "metadata": {},
   "source": [
    "The transform can be inverted but requires a custom function listed below named invert_boxcox() that takes a transformed value and the lambda value that was used to perform the transform."
   ]
  },
  {
   "cell_type": "code",
   "execution_count": 11,
   "id": "388eecc3",
   "metadata": {},
   "outputs": [],
   "source": [
    "from math import log\n",
    "from math import exp\n",
    "# invert a boxcox transform for one value\n",
    "def invert_boxcox(value, lam):\n",
    "    # log case\n",
    "    if lam == 0:\n",
    "        return exp(value)\n",
    "    # all other cases\n",
    "    return exp(log(lam * value + 1) / lam)"
   ]
  },
  {
   "cell_type": "markdown",
   "id": "eed3b1e4",
   "metadata": {},
   "source": [
    "A complete example of applying the power transform to a dataset and reversing the transform is listed below."
   ]
  },
  {
   "cell_type": "markdown",
   "id": "8a6f6fde",
   "metadata": {},
   "source": [
    "## Box-Cox Transform"
   ]
  },
  {
   "cell_type": "code",
   "execution_count": 5,
   "id": "d2bc633d",
   "metadata": {},
   "outputs": [
    {
     "name": "stdout",
     "output_type": "stream",
     "text": [
      "[1, 2, 3, 4, 5, 6, 7, 8, 9]\n",
      "[0.         0.89887536 1.67448353 2.37952145 3.03633818 3.65711928\n",
      " 4.2494518  4.81847233 5.36786648] 0.7200338588580096\n",
      "[1.0, 2.0, 3.000000000000001, 4.0, 4.999999999999998, 6.000000000000001, 6.999999999999999, 7.999999999999998, 9.000000000000002]\n"
     ]
    }
   ],
   "source": [
    "# example of power transform and inversion\n",
    "from math import log\n",
    "from math import exp\n",
    "from scipy.stats import boxcox\n",
    " \n",
    "# invert a boxcox transform for one value\n",
    "def invert_boxcox(value, lam):\n",
    "    # log case\n",
    "    if lam == 0:\n",
    "        return exp(value)\n",
    "    # all other cases\n",
    "    return exp(log(lam * value + 1) / lam)\n",
    " \n",
    " \n",
    "#define dataset\n",
    "data = [x for x in range(1, 10)]\n",
    "print(data)\n",
    "# power transform\n",
    "transformed, lmbda = boxcox(data)\n",
    "print(transformed, lmbda)\n",
    "# invert transform\n",
    "inverted = [invert_boxcox(x, lmbda) for x in transformed]\n",
    "print(inverted)"
   ]
  },
  {
   "cell_type": "markdown",
   "id": "4a59eca2",
   "metadata": {},
   "source": [
    "# Difference Transform"
   ]
  },
  {
   "cell_type": "markdown",
   "id": "01ac054d",
   "metadata": {},
   "source": [
    " A difference transform is a simple way for removing a systematic structure from the time series.\n",
    "\n",
    "For example, a trend can be removed by subtracting the previous value from each value in the series. This is called first order differencing. The process can be repeated (e.g. difference the differenced series) to remove second order trends, and so on.\n",
    "\n",
    "A seasonal structure can be removed in a similar way by subtracting the observation from the prior season, e.g. 12 time steps ago for monthly data with a yearly seasonal structure.\n",
    "\n",
    "A single differenced value in a series can be calculated with a custom function named difference() listed below. The function takes the time series and the interval for the difference calculation, e.g. 1 for a trend difference or 12 for a seasonal difference."
   ]
  },
  {
   "cell_type": "code",
   "execution_count": 13,
   "id": "8b1db1fe",
   "metadata": {},
   "outputs": [],
   "source": [
    "# difference dataset\n",
    "def difference(data, interval):\n",
    "    return [data[i] - data[i - interval] for i in range(interval, len(data))]"
   ]
  },
  {
   "cell_type": "markdown",
   "id": "238e37b4",
   "metadata": {},
   "source": [
    " Again, this operation can be inverted with a custom function that adds the original value back to the differenced value named invert_difference() that takes the original series and the interval."
   ]
  },
  {
   "cell_type": "code",
   "execution_count": null,
   "id": "64a8804e",
   "metadata": {},
   "outputs": [],
   "source": [
    "# invert difference\n",
    "def invert_difference(orig_data, diff_data, interval):\n",
    "    return [diff_data[i-interval] + orig_data[i-interval] for i in range(interval, len(orig_data))]"
   ]
  },
  {
   "cell_type": "markdown",
   "id": "51b602d6",
   "metadata": {},
   "source": [
    " We can demonstrate this function below."
   ]
  },
  {
   "cell_type": "code",
   "execution_count": 2,
   "id": "c21b1602",
   "metadata": {},
   "outputs": [
    {
     "name": "stdout",
     "output_type": "stream",
     "text": [
      "[1, 2, 3, 4, 5, 6, 7, 8, 9]\n",
      "[1, 1, 1, 1, 1, 1, 1, 1]\n",
      "[2, 3, 4, 5, 6, 7, 8, 9]\n"
     ]
    }
   ],
   "source": [
    "# example of a difference transform\n",
    " \n",
    "# difference dataset\n",
    "def difference(data, interval):\n",
    "    return [data[i] - data[i - interval] for i in range(interval, len(data))]\n",
    " \n",
    "# invert difference\n",
    "def invert_difference(orig_data, diff_data, interval):\n",
    "    return [diff_data[i-interval] + orig_data[i-interval] for i in range(interval, len(orig_data))]\n",
    " \n",
    "# define dataset\n",
    "data = [x for x in range(1, 10)]\n",
    "print(data)\n",
    "# difference transform\n",
    "transformed = difference(data, 1)\n",
    "print(transformed)\n",
    "# invert difference\n",
    "inverted = invert_difference(data, transformed, 1)\n",
    "print(inverted)"
   ]
  },
  {
   "cell_type": "markdown",
   "id": "0c27b00c",
   "metadata": {},
   "source": [
    "Running the example prints the original dataset, the results of the difference transform, and the original values after the transform is inverted.\n",
    "\n",
    "Note, the first “interval” values will be lost from the sequence after the transform. This is because they do not have a value at “interval” prior time steps, therefore cannot be differenced."
   ]
  },
  {
   "cell_type": "markdown",
   "id": "c596ca53",
   "metadata": {},
   "source": [
    "# Standardization"
   ]
  },
  {
   "cell_type": "markdown",
   "id": "b9d63278",
   "metadata": {},
   "source": [
    "Standardization is a transform for data with a Gaussian distribution.\n",
    "\n",
    "It subtracts the mean and divides the result by the standard deviation of the data sample. This has the effect of transforming the data to have mean of zero, or centered, with a standard deviation of 1. This resulting distribution is called a standard Gaussian distribution, or a standard normal, hence the name of the transform.\n",
    "\n",
    "We can perform standardization using the StandardScaler object in Python from the scikit-learn library.\n",
    "\n",
    "This class allows the transform to be fit on a training dataset by calling fit(), applied to one or more datasets (e.g. train and test) by calling transform() and also provides a function to reverse the transform by calling inverse_transform().\n",
    "\n",
    "A complete example is applied below."
   ]
  },
  {
   "cell_type": "code",
   "execution_count": 3,
   "id": "4c891ce6",
   "metadata": {},
   "outputs": [
    {
     "name": "stdout",
     "output_type": "stream",
     "text": [
      "[[1]\n",
      " [2]\n",
      " [3]\n",
      " [4]\n",
      " [5]\n",
      " [6]\n",
      " [7]\n",
      " [8]\n",
      " [9]]\n",
      "[[-1.54919334]\n",
      " [-1.161895  ]\n",
      " [-0.77459667]\n",
      " [-0.38729833]\n",
      " [ 0.        ]\n",
      " [ 0.38729833]\n",
      " [ 0.77459667]\n",
      " [ 1.161895  ]\n",
      " [ 1.54919334]]\n",
      "[[1.]\n",
      " [2.]\n",
      " [3.]\n",
      " [4.]\n",
      " [5.]\n",
      " [6.]\n",
      " [7.]\n",
      " [8.]\n",
      " [9.]]\n"
     ]
    }
   ],
   "source": [
    "# example of standardization\n",
    "from sklearn.preprocessing import StandardScaler\n",
    "from numpy import array\n",
    "# define dataset\n",
    "data = [x for x in range(1, 10)]\n",
    "data = array(data).reshape(len(data), 1)\n",
    "print(data)\n",
    "# fit transform\n",
    "transformer = StandardScaler()\n",
    "transformer.fit(data)\n",
    "# difference transform\n",
    "transformed = transformer.transform(data)\n",
    "print(transformed)\n",
    "# invert difference\n",
    "inverted = transformer.inverse_transform(transformed)\n",
    "print(inverted)"
   ]
  },
  {
   "cell_type": "markdown",
   "id": "81772201",
   "metadata": {},
   "source": [
    "Running the example prints the original dataset, the results of the standardize transform, and the original values after the transform is inverted.\n",
    "\n",
    "Note the expectation that data is provided as a column with multiple rows."
   ]
  },
  {
   "cell_type": "code",
   "execution_count": null,
   "id": "9a1615b8",
   "metadata": {},
   "outputs": [],
   "source": []
  },
  {
   "cell_type": "markdown",
   "id": "b5621644",
   "metadata": {},
   "source": [
    "#  Normalization"
   ]
  },
  {
   "cell_type": "markdown",
   "id": "842ca5c0",
   "metadata": {},
   "source": [
    "Normalization is a rescaling of data from the original range to a new range between 0 and 1.\n",
    "\n",
    "As with standardization, this can be implemented using a transform object from the scikit-learn library, specifically the MinMaxScaler class. In addition to normalization, this class can be used to rescale data to any range you wish by specifying the preferred range in the constructor of the object.\n",
    "\n",
    "It can be used in the same way to fit, transform, and inverse the transform.\n",
    "\n",
    "A complete example is listed below."
   ]
  },
  {
   "cell_type": "code",
   "execution_count": 4,
   "id": "178a9032",
   "metadata": {},
   "outputs": [
    {
     "name": "stdout",
     "output_type": "stream",
     "text": [
      "[[1]\n",
      " [2]\n",
      " [3]\n",
      " [4]\n",
      " [5]\n",
      " [6]\n",
      " [7]\n",
      " [8]\n",
      " [9]]\n",
      "[[0.   ]\n",
      " [0.125]\n",
      " [0.25 ]\n",
      " [0.375]\n",
      " [0.5  ]\n",
      " [0.625]\n",
      " [0.75 ]\n",
      " [0.875]\n",
      " [1.   ]]\n",
      "[[1.]\n",
      " [2.]\n",
      " [3.]\n",
      " [4.]\n",
      " [5.]\n",
      " [6.]\n",
      " [7.]\n",
      " [8.]\n",
      " [9.]]\n"
     ]
    }
   ],
   "source": [
    "from sklearn.preprocessing import MinMaxScaler\n",
    "from numpy import array\n",
    "# define dataset\n",
    "data = [x for x in range(1, 10)]\n",
    "data = array(data).reshape(len(data), 1)\n",
    "print(data)\n",
    "# fit transform\n",
    "transformer = MinMaxScaler()\n",
    "transformer.fit(data)\n",
    "# difference transform\n",
    "transformed = transformer.transform(data)\n",
    "print(transformed)\n",
    "# invert difference\n",
    "inverted = transformer.inverse_transform(transformed)\n",
    "print(inverted)"
   ]
  },
  {
   "cell_type": "markdown",
   "id": "1d8b220e",
   "metadata": {},
   "source": [
    "## Considerations for Model Evaluation\n",
    "We have mentioned the importance of being able to invert a transform on the predictions of a model in order to calculate a model performance statistic that is directly comparable to other methods.\n",
    "\n",
    "Additionally, another concern is the problem of data leakage.\n",
    "\n",
    "Three of the above data transforms estimate coefficients from a provided dataset that are then used to transform the data. Specifically:\n",
    "\n",
    "<b>Power Transform:</b> lambda parameter.<br>\n",
    "<b>Standardization:</b> mean and standard deviation statistics.<br>\n",
    "<b>Normalization:</b> min and max values.<br>\n",
    "These coefficients must be estimated on the training dataset only.<br>\n",
    "\n",
    "Once estimated, the transform can be applied using the coefficients to the training and the test dataset before evaluating your model.\n",
    "\n",
    "If the coefficients are estimated using the entire dataset prior to splitting into train and test sets, then there is a small leakage of information from the test set to the training dataset. This can result in estimates of model skill that are optimistically biased.\n",
    "\n",
    "As such, you may want to enhance the estimates of the coefficients with domain knowledge, such as expected min/max values for all time in the future.\n",
    "\n",
    "Generally, differencing does not suffer the same problems. In most cases, such as one-step forecasting, the lag observations are available to perform the difference calculation. If not, the lag predictions can be used wherever needed as a proxy for the true observations in difference calculations.\n",
    "\n",
    "## Order of Data Transforms\n",
    "You may want to experiment with applying multiple data transforms to a time series prior to modeling.\n",
    "\n",
    "This is quite common, e.g. to apply a power transform to remove an increasing variance, to apply seasonal differencing to remove seasonality, and to apply one-step differencing to remove a trend.\n",
    "\n",
    "The order that the transform operations are applied is important.\n",
    "\n",
    "Intuitively, we can think through how the transforms may interact.\n",
    "\n",
    "* Power transforms should probably be performed prior to differencing.\n",
    "* Seasonal differencing should be performed prior to one-step differencing.\n",
    "* Standardization is linear and should be performed on the sample after any nonlinear transforms and differencing.\n",
    "* Normalization is a linear operation but it should be the final transform performed to maintain the preferred scale.\n",
    "\n",
    "As such, a suggested ordering for data transforms is as follows:\n",
    "\n",
    "1. Power Transform.\n",
    "2. Seasonal Difference.\n",
    "3. Trend Difference.\n",
    "4. Standardization.\n",
    "5. Normalization.<br>\n",
    "\n",
    "Obviously, you would only use the transforms required for your specific dataset.\n",
    "\n",
    "Importantly, when the transform operations are inverted, the order of the inverse transform operations must be reversed. Specifically, the inverse operations must be performed in the following order:\n",
    "\n",
    "1. Normalization.\n",
    "2. Standardization.\n",
    "3. Trend Difference.\n",
    "4. Seasonal Difference.\n",
    "5. Power Transform."
   ]
  }
 ],
 "metadata": {
  "kernelspec": {
   "display_name": "Python 3",
   "language": "python",
   "name": "python3"
  },
  "language_info": {
   "codemirror_mode": {
    "name": "ipython",
    "version": 3
   },
   "file_extension": ".py",
   "mimetype": "text/x-python",
   "name": "python",
   "nbconvert_exporter": "python",
   "pygments_lexer": "ipython3",
   "version": "3.8.8"
  },
  "latex_envs": {
   "LaTeX_envs_menu_present": true,
   "autoclose": false,
   "autocomplete": true,
   "bibliofile": "biblio.bib",
   "cite_by": "apalike",
   "current_citInitial": 1,
   "eqLabelWithNumbers": true,
   "eqNumInitial": 1,
   "hotkeys": {
    "equation": "Ctrl-E",
    "itemize": "Ctrl-I"
   },
   "labels_anchors": false,
   "latex_user_defs": false,
   "report_style_numbering": false,
   "user_envs_cfg": false
  },
  "toc": {
   "base_numbering": 1,
   "nav_menu": {},
   "number_sections": true,
   "sideBar": true,
   "skip_h1_title": false,
   "title_cell": "Table of Contents",
   "title_sidebar": "Contents",
   "toc_cell": false,
   "toc_position": {},
   "toc_section_display": true,
   "toc_window_display": false
  },
  "varInspector": {
   "cols": {
    "lenName": 16,
    "lenType": 16,
    "lenVar": 40
   },
   "kernels_config": {
    "python": {
     "delete_cmd_postfix": "",
     "delete_cmd_prefix": "del ",
     "library": "var_list.py",
     "varRefreshCmd": "print(var_dic_list())"
    },
    "r": {
     "delete_cmd_postfix": ") ",
     "delete_cmd_prefix": "rm(",
     "library": "var_list.r",
     "varRefreshCmd": "cat(var_dic_list()) "
    }
   },
   "types_to_exclude": [
    "module",
    "function",
    "builtin_function_or_method",
    "instance",
    "_Feature"
   ],
   "window_display": false
  }
 },
 "nbformat": 4,
 "nbformat_minor": 5
}
